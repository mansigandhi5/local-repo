{
 "cells": [
  {
   "cell_type": "markdown",
   "metadata": {},
   "source": [
    "##### Numpy\n"
   ]
  },
  {
   "cell_type": "code",
   "execution_count": 1,
   "metadata": {},
   "outputs": [
    {
     "name": "stdout",
     "output_type": "stream",
     "text": [
      "[5 6 7]\n"
     ]
    }
   ],
   "source": [
    "import numpy as np\n",
    "a=np.array([5,6,7])\n",
    "print (a)"
   ]
  },
  {
   "cell_type": "code",
   "execution_count": 3,
   "metadata": {},
   "outputs": [
    {
     "name": "stdout",
     "output_type": "stream",
     "text": [
      "[[1 2 3]\n",
      " [2 3 4]]\n"
     ]
    }
   ],
   "source": [
    "b=np.array([[1,2,3],[2,3,4]])\n",
    "print(b)"
   ]
  },
  {
   "cell_type": "code",
   "execution_count": null,
   "metadata": {},
   "outputs": [],
   "source": []
  },
  {
   "cell_type": "code",
   "execution_count": 2,
   "metadata": {},
   "outputs": [
    {
     "name": "stdout",
     "output_type": "stream",
     "text": [
      "[[0. 0. 0. 0.]\n",
      " [0. 0. 0. 0.]\n",
      " [0. 0. 0. 0.]]\n",
      "[[10 10 10]\n",
      " [10 10 10]]\n",
      "[[0.05626263 0.11632123]\n",
      " [0.73100737 0.54706138]\n",
      " [0.08985604 0.54036005]]\n"
     ]
    },
    {
     "data": {
      "text/plain": [
       "array([[0.25092362, 0.04609582],\n",
       "       [0.67681624, 0.04346949],\n",
       "       [0.1164237 , 0.60386569]])"
      ]
     },
     "execution_count": 2,
     "metadata": {},
     "output_type": "execute_result"
    }
   ],
   "source": [
    "c=np.zeros((3,4))\n",
    "print (c)\n",
    "#Full \n",
    "c=np.full((2,3),10)\n",
    "print(c)\n",
    "# RAndomly created - Dynamic in nature \n",
    "s= np.random.random((3,2))\n",
    "print(s)\n",
    "# Freeze the randomess- used to generate same random numbers\n",
    "np.random.seed(41) \n",
    "np.random.sample((3,2))"
   ]
  },
  {
   "cell_type": "code",
   "execution_count": 3,
   "metadata": {},
   "outputs": [
    {
     "data": {
      "text/plain": [
       "array({'William', 'Jonathan', 'Edith', 'Deanna', 'Velma'}, dtype=object)"
      ]
     },
     "execution_count": 3,
     "metadata": {},
     "output_type": "execute_result"
    }
   ],
   "source": [
    "# Randomly generating chars\n",
    "import string\n",
    "[string.ascii_uppercase[i]  for i in range(5)]\n",
    "\n",
    "# Randomly generating names\n",
    "import names\n",
    "dir(string)\n",
    "np.array({names.get_first_name() for i in range (5)})"
   ]
  },
  {
   "cell_type": "code",
   "execution_count": 4,
   "metadata": {},
   "outputs": [
    {
     "name": "stdout",
     "output_type": "stream",
     "text": [
      "[10 11 12 13 14 15 16 17 18 19]\n"
     ]
    },
    {
     "data": {
      "text/plain": [
       "array([[10, 11],\n",
       "       [12, 13],\n",
       "       [14, 15],\n",
       "       [16, 17],\n",
       "       [18, 19]])"
      ]
     },
     "execution_count": 4,
     "metadata": {},
     "output_type": "execute_result"
    }
   ],
   "source": [
    "#between 10 to 100\n",
    "np.random.randint(10,100,(3,5))\n",
    "\n",
    "# random with decimal , we dont have a function\n",
    "np.around(np.random.randint(10,100,(2,2)) + np.random.sample((2,2)),2)\n",
    "\n",
    "#Range\n",
    "np.arange(10)\n",
    "print(np.arange(10,20))\n",
    "np.arange(10,30,2)\n",
    "\n",
    "#Reshaping 1D to 2D\n",
    "np.arange(10,20).reshape((5,2)) # Product of R and Cshould be equal to total elements"
   ]
  },
  {
   "cell_type": "code",
   "execution_count": 3,
   "metadata": {},
   "outputs": [
    {
     "name": "stdout",
     "output_type": "stream",
     "text": [
      "[ 1  3  5  7  9 11 13 15 17 19 21 23 25 27 29 31 33 35 37 39]\n"
     ]
    }
   ],
   "source": [
    "d=np.arange(1,40,2)\n",
    "print(d)"
   ]
  },
  {
   "cell_type": "code",
   "execution_count": 7,
   "metadata": {},
   "outputs": [
    {
     "name": "stdout",
     "output_type": "stream",
     "text": [
      "[ 1  5  9 14 18 22 27 31 35 40]\n"
     ]
    },
    {
     "data": {
      "text/plain": [
       "array([ 1.  ,  3.25,  5.5 ,  7.75, 10.  ])"
      ]
     },
     "execution_count": 7,
     "metadata": {},
     "output_type": "execute_result"
    }
   ],
   "source": [
    "# Linearly separated values - Start , ENd  No.of Values between , equal spaced\n",
    "d=np.linspace(1,40,10, dtype=int)\n",
    "print(d)\n",
    "np.linspace(1,10,5)"
   ]
  },
  {
   "cell_type": "code",
   "execution_count": 12,
   "metadata": {},
   "outputs": [
    {
     "name": "stdout",
     "output_type": "stream",
     "text": [
      "[[6 6 6 6]\n",
      " [6 6 6 6]\n",
      " [6 6 6 6]\n",
      " [6 6 6 6]]\n"
     ]
    }
   ],
   "source": [
    "e=np.full((4,4),6)\n",
    "print (e)"
   ]
  },
  {
   "cell_type": "code",
   "execution_count": 16,
   "metadata": {},
   "outputs": [
    {
     "name": "stdout",
     "output_type": "stream",
     "text": [
      "[[0.59303356 0.66716937 0.65968593 0.66296804 0.53657659]\n",
      " [0.05985183 0.51030451 0.33192943 0.1771687  0.66723132]\n",
      " [0.86326328 0.29675109 0.51835085 0.20295781 0.52552093]]\n"
     ]
    }
   ],
   "source": [
    "f=np.random.random((3,5))\n",
    "print (f)"
   ]
  },
  {
   "cell_type": "markdown",
   "metadata": {},
   "source": [
    "## Inspection"
   ]
  },
  {
   "cell_type": "code",
   "execution_count": 5,
   "metadata": {},
   "outputs": [
    {
     "name": "stdout",
     "output_type": "stream",
     "text": [
      "[[1 2 3 4]\n",
      " [2 3 6 7]]\n"
     ]
    }
   ],
   "source": [
    "a=np.array([[1,2,3,4],[2,3,6,7]])\n",
    "print (a)"
   ]
  },
  {
   "cell_type": "code",
   "execution_count": 6,
   "metadata": {},
   "outputs": [
    {
     "name": "stdout",
     "output_type": "stream",
     "text": [
      "(2, 4)\n"
     ]
    }
   ],
   "source": [
    "print(a.shape)"
   ]
  },
  {
   "cell_type": "code",
   "execution_count": 7,
   "metadata": {},
   "outputs": [],
   "source": [
    "a.shape=(4,2)"
   ]
  },
  {
   "cell_type": "code",
   "execution_count": 8,
   "metadata": {},
   "outputs": [
    {
     "name": "stdout",
     "output_type": "stream",
     "text": [
      "[[1 2]\n",
      " [3 4]\n",
      " [2 3]\n",
      " [6 7]]\n"
     ]
    }
   ],
   "source": [
    "print(a)"
   ]
  },
  {
   "cell_type": "code",
   "execution_count": 10,
   "metadata": {},
   "outputs": [
    {
     "name": "stdout",
     "output_type": "stream",
     "text": [
      "1\n"
     ]
    }
   ],
   "source": [
    "b=np.array([1,2,3,4])\n",
    "print(a.ndim)"
   ]
  },
  {
   "cell_type": "code",
   "execution_count": 11,
   "metadata": {},
   "outputs": [
    {
     "name": "stdout",
     "output_type": "stream",
     "text": [
      "3\n"
     ]
    }
   ],
   "source": [
    "print(a.size)"
   ]
  },
  {
   "cell_type": "markdown",
   "metadata": {},
   "source": [
    "### Maths in Numpy"
   ]
  },
  {
   "cell_type": "code",
   "execution_count": 9,
   "metadata": {},
   "outputs": [
    {
     "name": "stdout",
     "output_type": "stream",
     "text": [
      "[ 5 10]\n"
     ]
    }
   ],
   "source": [
    "print (np.sum([[2,3],[4,6]], axis=1))"
   ]
  },
  {
   "cell_type": "code",
   "execution_count": 31,
   "metadata": {},
   "outputs": [
    {
     "name": "stdout",
     "output_type": "stream",
     "text": [
      "[-2 -3]\n"
     ]
    }
   ],
   "source": [
    "print(np.subtract([2,3],[4,6]))"
   ]
  },
  {
   "cell_type": "code",
   "execution_count": 33,
   "metadata": {},
   "outputs": [
    {
     "name": "stdout",
     "output_type": "stream",
     "text": [
      "[ 8 18]\n"
     ]
    }
   ],
   "source": [
    "print(np.multiply([2,3],[4,6]))"
   ]
  },
  {
   "cell_type": "code",
   "execution_count": 34,
   "metadata": {},
   "outputs": [
    {
     "name": "stdout",
     "output_type": "stream",
     "text": [
      "[0.5 0.5]\n"
     ]
    }
   ],
   "source": [
    "print(np.divide([2,3],[4,6]))"
   ]
  },
  {
   "cell_type": "code",
   "execution_count": 40,
   "metadata": {},
   "outputs": [
    {
     "name": "stdout",
     "output_type": "stream",
     "text": [
      "[[ 0.84147098  0.90929743]\n",
      " [ 0.14112001 -0.7568025 ]\n",
      " [ 0.90929743  0.14112001]\n",
      " [-0.2794155   0.6569866 ]] [[   2.71828183    7.3890561 ]\n",
      " [  20.08553692   54.59815003]\n",
      " [   7.3890561    20.08553692]\n",
      " [ 403.42879349 1096.63315843]]\n"
     ]
    }
   ],
   "source": [
    "print(np.sin(a),np.exp(a))"
   ]
  },
  {
   "cell_type": "code",
   "execution_count": 8,
   "metadata": {},
   "outputs": [
    {
     "data": {
      "text/plain": [
       "array([2.        , 5.66666667])"
      ]
     },
     "execution_count": 8,
     "metadata": {},
     "output_type": "execute_result"
    }
   ],
   "source": [
    "c= np.array([[1,2,3], \n",
    "            [4,8,5]])\n",
    "c.mean(axis=1)\n"
   ]
  },
  {
   "cell_type": "markdown",
   "metadata": {},
   "source": [
    "# Numpy Exercises"
   ]
  },
  {
   "cell_type": "code",
   "execution_count": 11,
   "metadata": {},
   "outputs": [
    {
     "name": "stdout",
     "output_type": "stream",
     "text": [
      "[[0. 0.]\n",
      " [0. 0.]]\n",
      "[10 11 12 13 14 15 16 17 18 19 20 21 22 23 24 25 26 27 28 29 30 31 32 33\n",
      " 34 35 36 37 38 39 40 41 42 43 44 45 46 47 48]\n",
      "[[1 1]\n",
      " [1 1]]\n",
      "[0 1 2 3]\n",
      "[[5 5 5 5]\n",
      " [5 5 5 5]\n",
      " [5 5 5 5]\n",
      " [5 5 5 5]]\n",
      "[[2 3]\n",
      " [6 2]]\n"
     ]
    },
    {
     "data": {
      "text/plain": [
       "array([[7, 7],\n",
       "       [7, 7]])"
      ]
     },
     "execution_count": 11,
     "metadata": {},
     "output_type": "execute_result"
    }
   ],
   "source": [
    "#Create a numpy array of size 10, filled with zeros.\n",
    "\n",
    "z=np.zeros([2,2])\n",
    "print(z)\n",
    "\n",
    "# Create a numpy array with values ranging from 10 to 49\n",
    "\n",
    "r = np.arange(10,49)\n",
    "print(r)\n",
    "\n",
    "#Create a numpy matrix of 2*2 integers, filled with ones.\n",
    "\n",
    "i=np.ones([2,2], dtype=int)\n",
    "print(i)\n",
    "\n",
    "#Given the X numpy array, create a new numpy array with the same shape and type as X, filled with ones.\n",
    "\n",
    "X = np.arange(4, dtype=int)\n",
    "print(X)\n",
    "np.ones_like(X)\n",
    "\n",
    "# Given the X numpy matrix, create a new numpy matrix with the same shape and type as X, filled with zeros.\n",
    "\n",
    "Y = np.arange(4, dtype=int)\n",
    "\n",
    "np.zeros_like(X)\n",
    "\n",
    "# Create a numpy matrix of 4*4 integers, filled with fives.\n",
    "f = np.array([[1,1,1,1],\n",
    "             [1,1,1,1],\n",
    "             [1,1,1,1],\n",
    "             [ 1,1,1,1]])\n",
    "f= f*5\n",
    "print(f)\n",
    "\n",
    "# Given the X numpy matrix, create a new numpy matrix with the same shape and type as X, filled with sevens.\n",
    "s = np.array([[2,3], [6,2]], dtype=int)\n",
    "print(s)\n",
    "np.ones_like(s) * 7"
   ]
  },
  {
   "cell_type": "code",
   "execution_count": 16,
   "metadata": {},
   "outputs": [
    {
     "name": "stdout",
     "output_type": "stream",
     "text": [
      "[26 25  8]\n",
      "[[[-0.1277581  -0.07646054 -0.12367524]\n",
      "  [-0.10427345 -0.43712785 -0.38752089]\n",
      "  [-0.66532953 -0.5290061   0.72228169]]\n",
      "\n",
      " [[-0.99984093 -0.37821309 -1.69428866]\n",
      "  [-0.12220507 -0.82928812 -2.16409049]\n",
      "  [ 0.20874301  1.3467559  -1.27275841]]\n",
      "\n",
      " [[ 0.54732139  0.47354037 -0.10499787]\n",
      "  [-0.23553402 -1.14088765  0.86107794]\n",
      "  [ 0.05173874 -0.01557364 -0.18622343]]]\n",
      "[5 2 3] 2563456843568\n",
      "[5 2 3] 2563478892240\n",
      "800 bytes\n"
     ]
    }
   ],
   "source": [
    "#Create a 3*3 identity numpy matrix with ones on the diagonal and zeros elsewhere.\n",
    "i=np.identity(3,dtype=int)\n",
    "np.ones_like(i)\n",
    "\n",
    "#Create a numpy array, filled with 3 random integer values between 1 and 10.\n",
    "np.linspace(1,10,3, dtype=int)\n",
    "print(np.random.randint(100, size=3))\n",
    "\n",
    "#Create a 3*3*3 numpy matrix, filled with random float values.\n",
    "print(np.random.randn(3,3,3))\n",
    "\n",
    "#Given the X python list convert it to an Y numpy array\n",
    "x=[4,6,9,3]\n",
    "np.array(x)\n",
    "\n",
    "#Given the X numpy array, make a copy and store it on Y.\n",
    "X = np.array([5,2,3], dtype=int)\n",
    "print(X, id(X))\n",
    "\n",
    "Y = np.copy(X)\n",
    "print(Y, id(Y)) # different id\n",
    "\n",
    "#Create a numpy array with numbers from 1 to 10\n",
    "np.arange(1,11)\n",
    "\n",
    "#Create a numpy array with the odd numbers between 1 to 10\n",
    "np.arange(1,11,2)\n",
    "\n",
    "#Create a numpy array with numbers from 1 to 10, in descending order.\n",
    "np.arange(1,11)[::-1]\n",
    "\n",
    "#Create a 3*3 numpy matrix, filled with values ranging from 0 to 8\n",
    "np.arange(9).reshape(3,3)\n",
    "\n",
    "#Show the memory size of the given Z numpy matrix\n",
    "Z = np.zeros((10,10))\n",
    "\n",
    "print(\"%d bytes\" % (Z.size * Z.itemsize))"
   ]
  },
  {
   "cell_type": "code",
   "execution_count": 22,
   "metadata": {},
   "outputs": [
    {
     "name": "stdout",
     "output_type": "stream",
     "text": [
      "0\n",
      "7\n",
      "[[ 9 10 11 12]]\n",
      "[[1 2]\n",
      " [5 6]]\n"
     ]
    },
    {
     "data": {
      "text/plain": [
       "array([[11, 12],\n",
       "       [15, 16]])"
      ]
     },
     "execution_count": 22,
     "metadata": {},
     "output_type": "execute_result"
    }
   ],
   "source": [
    "#Given the X numpy array, show it's first element\n",
    "x=np.array([1,2,3,7,9,4])\n",
    "x[0]\n",
    "\n",
    "#Given the X numpy array, show it's last element\n",
    "x[-1]\n",
    "\n",
    "#Given the X numpy array, show it's first three elements\n",
    "x[:3]\n",
    "\n",
    "#Given the X numpy array, show all middle elements\n",
    "x[1:-1]\n",
    "\n",
    "#Given the X numpy array, show the elements in reverse position\n",
    "x[::-1]\n",
    "\n",
    "#Given the X numpy array, show the elements in an odd position\n",
    "x[::2]\n",
    "\n",
    "#Given the X numpy matrix, show the first row elements\n",
    "x=np.arange(9).reshape(3,3)\n",
    "x[0]\n",
    "\n",
    "#Given the X numpy matrix, show the last row elements\n",
    "x[-1]\n",
    "\n",
    "#Given the X numpy matrix, show the first element on first row\n",
    "x=np.arange(8).reshape(2,4)\n",
    "print(x[0,0])\n",
    "\n",
    "#Given the X numpy matrix, show the last element on last row\n",
    "print(x[-1,-1])\n",
    "\n",
    "#Given the X numpy matrix, show the middle row elements\n",
    "X = np.array([\n",
    "    [1,   2,  3,  4],\n",
    "    [5,   6,  7,  8],\n",
    "    [9,  10, 11, 12],\n",
    "    [13, 14, 15, 16]\n",
    "])\n",
    "\n",
    "#X[1:-1][1:-1] wrong!\n",
    "print(X[2:3])\n",
    "\n",
    "#Given the X numpy matrix, show the first two elements on the first two rows\n",
    "print(X[0:2,0:2])\n",
    "\n",
    "#Given the X numpy matrix, show the last two elements on the last two rows\n",
    "X[-2:,-2:]"
   ]
  },
  {
   "cell_type": "code",
   "execution_count": 141,
   "metadata": {},
   "outputs": [
    {
     "data": {
      "text/plain": [
       "16"
      ]
     },
     "execution_count": 141,
     "metadata": {},
     "output_type": "execute_result"
    }
   ],
   "source": [
    "#Convert the given integer numpy array to float\n",
    "X = [-5, -3, 0, 10, 40]\n",
    "np.array(X, float)\n",
    "\n",
    "#Reverse the given numpy array (first element becomes last)\n",
    "X[::-1]\n",
    "\n",
    "#Order (sort) the given numpy array\n",
    "X.sort()\n",
    "X\n",
    "\n",
    "#Given the X numpy array, set the fifth element equal to 1\n",
    "X[4] = 1\n",
    "X\n",
    "\n",
    "#Given the X numpy array, change the 50 with a 40\n",
    "X = np.array([10, 20, 30, 50])\n",
    "X[3] = 40\n",
    "X\n",
    "\n",
    "#Given the X numpy matrix, change the last row with all 1\n",
    "X = np.array([\n",
    "    [1,   2,  3,  4],\n",
    "    [5,   6,  7,  8],\n",
    "    [9,  10, 11, 12],\n",
    "    [13, 14, 15, 16]\n",
    "])\n",
    "\n",
    "X[-1:,:] =[1,1,1,1]\n",
    "X\n",
    "\n",
    "#Given the X numpy matrix, change the last item on the last row with a 0\n",
    "X[-1,-1] = 0\n",
    "X\n",
    "\n",
    "#Given the X numpy matrix, add 5 to every element\n",
    "X=X+5\n",
    "X\n",
    "\n",
    "#Given the X numpy array, make a mask showing negative elements\n",
    "X = np.array([-1,2,0,-4,5,6,0,0,-9,10])\n",
    "\n",
    "mask = X <= 0\n",
    "X\n",
    "\n",
    "#Given the X numpy array, get the negative elements\n",
    "X[mask]\n",
    "\n",
    "#Given the X numpy array, get numbers higher than 5\n",
    "mask = X > 5\n",
    "X[mask]\n",
    "\n",
    "#Given the X numpy array, get numbers higher than the elements mean\n",
    "m=X.mean()\n",
    "X[X>m]\n",
    "\n",
    "#Given the X numpy array, get numbers equal to 2 or 10\n",
    "m =(X==2) |(X==10)\n",
    "X[m]\n",
    "\n",
    "#Given the X numpy array, return True if none of its elements is zero\n",
    "X.all()\n",
    "\n",
    "#Given the X numpy array, return True if any of its elements is zero\n",
    "X.any()\n",
    "\n",
    "#Given the X numpy array, show the sum of its elements\n",
    "X.sum()\n",
    "\n",
    "#Given the X numpy array, show the mean value of its elements\n",
    "X.mean()\n",
    "\n",
    "#Given the X numpy matrix, show the sum of its columns\n",
    "X = np.array([\n",
    "    [1,   2,  3,  4],\n",
    "    [5,   6,  7,  8],\n",
    "    [9,  10, 11, 12],\n",
    "    [13, 14, 15, 16]\n",
    "])\n",
    "\n",
    "X.sum(axis=0)\n",
    "\n",
    "#Given the X numpy matrix, show the mean value of its rows\n",
    "X.sum(axis=1)\n",
    "\n",
    "#Given the X numpy array, show the max value of its elements\n",
    "X.max()"
   ]
  },
  {
   "cell_type": "markdown",
   "metadata": {},
   "source": [
    "# Numpy Excercise 2"
   ]
  },
  {
   "cell_type": "code",
   "execution_count": 19,
   "metadata": {},
   "outputs": [
    {
     "name": "stdout",
     "output_type": "stream",
     "text": [
      "1.21.5\n",
      "[6, 7, 9, 8, 9, 7, 5]\n",
      "[[0 2 1]\n",
      " [3 5 4]\n",
      " [6 8 7]]\n",
      "[1.46 1.55 5.35]\n",
      "[[0. 0. 0.]\n",
      " [0. 0. 0.]\n",
      " [0. 0. 0.]]\n"
     ]
    },
    {
     "data": {
      "text/plain": [
       "2.3664319132398464"
      ]
     },
     "execution_count": 19,
     "metadata": {},
     "output_type": "execute_result"
    }
   ],
   "source": [
    "#Exercise 1. Import numpy as np and see the version\n",
    "import numpy as np\n",
    "print(np.__version__)\n",
    "\n",
    "#Exercise 2. How to create a 1D array?\n",
    "a=np.array([1,2,3,4])\n",
    "\n",
    "#Exercise 3. How to create a boolean array?\n",
    "a>=3\n",
    "# Solution\n",
    "np.full((3,3), True, dtype=bool)\n",
    "\n",
    "#or\n",
    "np.full((9), True, dtype=bool).reshape(3,3)\n",
    "\n",
    "#or\n",
    "np.ones((3,3), dtype=bool)\n",
    "\n",
    "#or\n",
    "np.ones((9), dtype=bool).reshape(3,3)\n",
    "\n",
    "#Exercise 4. How to extract items that satisfy a given condition from 1D array?\n",
    "a[a>=3]\n",
    "\n",
    "#Exercise 5. How to replace items that satisfy a condition with another value in numpy array?\n",
    "arr = np.array([0, 1, 2, 3, 4, 5, 6, 7, 8, 9])\n",
    "arr[arr>4] = 1\n",
    "arr\n",
    "#Exercise 6. How to replace items that satisfy a condition without affecting the original array?\n",
    "a=np.copy(arr)\n",
    "\n",
    "#Exercise 7. How to reshape an array?\n",
    "arr = np.array([ 1, 2, 3, 4, 5, 6, 7, 8, 9])\n",
    "arr.reshape(3,3)\n",
    "\n",
    "#Exercise 8. How to stack two arrays vertically?\n",
    "a=[1,2,3]\n",
    "b=[2,3,5]\n",
    "np.vstack((a,b))\n",
    "#Exercise 9. How to stack two arrays horizontally?\n",
    "np.hstack((a,b))\n",
    "#Exercise 10. How to generate custom sequences in numpy without hardcoding?-----------imp\n",
    "np.repeat(b,3)\n",
    "np.tile(a,3)\n",
    "np.hstack((np.repeat(a, 3), np.tile(a, 3)))\n",
    "\n",
    "#Exercise 11. How to get the common items between two python numpy arrays?------------imp\n",
    "a=np.array([1,2,3])\n",
    "b=np.array([3,2,5])\n",
    "np.intersect1d(a,b)\n",
    "\n",
    "#Exercise 12. How to remove from one array those items that exist in another?------------imp\n",
    "np.setdiff1d(b,a)\n",
    "\n",
    "#Exercise 13. How to get the positions where elements of two arrays match?------------imp\n",
    "np.where(a == b)\n",
    "\n",
    "#Exercise 14. How to extract all numbers between a given range from a numpy array?\n",
    "\n",
    "a = np.array([2, 6, 1, 9, 10, 3, 27])\n",
    "a[(a >= 5) & (a <= 10)]\n",
    "\n",
    "#Exercise 15. How to make a python function that handles scalars to work on numpy arrays?\n",
    "def m(a,b):\n",
    "    mmm= [mm(x,y) for x,y in map(lambda x,y:(x,y) ,a,b)]\n",
    "    return mmm\n",
    "\n",
    "    \n",
    "def mm(x,y):\n",
    "    if x>y:\n",
    "        return x\n",
    "    else :\n",
    "        return y\n",
    "y = np.array([5, 7, 9, 8, 6, 4, 5])\n",
    "x = np.array([6, 3, 4, 8, 9, 7, 1])\n",
    "\n",
    "print(m(x,y))\n",
    "\n",
    "#Exercise 16. How to swap two columns in a 2d numpy array?\n",
    "a=np.arange(9).reshape(3,3)\n",
    "a[:,[1,2]] = a[:,[2,1]]\n",
    "print(a)\n",
    "\n",
    "#Exercise 17. How to swap two rows in a 2d numpy array?\n",
    "#similar as columns\n",
    "\n",
    "#Exercise 18. How to reverse the rows of a 2D array?\n",
    "a[::-1,:]\n",
    "\n",
    "#Exercise 19. How to reverse the columns of a 2D array?\n",
    "a[:,::-1]\n",
    "\n",
    "#Exercise 20. How to create a 2D array containing random floats between 5 and 10?\n",
    "a=np.random.uniform(5,10, size=(5,3))\n",
    "\n",
    "#Exercise 21. How to print only 3 decimal places in python numpy array?\n",
    "np.set_printoptions(precision=2)\n",
    "print(np.array([1.4637,1.5497,5.34964]))\n",
    "\n",
    "#Exercise 22. How to pretty print a numpy array by suppressing the scientific notation (like 1e10)?\n",
    "np.random.seed(100)\n",
    "rand_arr = np.random.random([3,3])/1e3\n",
    "np.set_printoptions(suppress=False)\n",
    "rand_arr\n",
    "np.set_printoptions(suppress=True)\n",
    "print(rand_arr)\n",
    "\n",
    "#Exercise 23. How to limit the number of items printed in output of numpy array?\n",
    "l=np.arange(9)\n",
    "np.set_printoptions(threshold=True)\n",
    "l\n",
    "\n",
    "#Exercise 24. How to print the full numpy array without truncating\n",
    "a = np.arange(15)\n",
    "np.set_printoptions(threshold=True)\n",
    "a\n",
    "\n",
    "#Exercise 25. How to import a dataset with numbers and texts keeping the text intact in python numpy?\n",
    "#iris_data = np.genfromtxt('../input/iris/Iris.csv', delimiter=',', skip_header=1, \n",
    " #                         usecols = [0,1,2,3,4,5], dtype = object)\n",
    "#iris_data\n",
    "\n",
    "#Exercise 26. How to extract a particular column from 1D array of tuples?\n",
    "\n",
    "#Exercise 27. How to convert a 1d array of tuples to a 2d numpy array?\n",
    "\n",
    "#xercise 28. How to compute the mean, median, standard deviation of a numpy array?\n",
    "a=np.array([4,6,2,4,9])\n",
    "np.mean(a)\n",
    "np.median(a)\n",
    "np.std(a)\n",
    "\n",
    "#Exercise 29. How to normalize an array so the values range exactly between 0 and 1?\n",
    "\n",
    "#Exercise 30. How to compute the softmax score?\n",
    "softmax = np.exp(iris_data)/sum(np.exp(iris_data))\n",
    "\n",
    "#Exercise 31. How to find the percentile scores of a numpy array?\n",
    "#numpy.percentile()\n",
    "# percentile of 10 ,  would indicate 10 jo hai woh 80% of valuesse bada hai \n",
    "    \n",
    "#Exercise 32. How to insert values at random positions in an array\n",
    "\n",
    "#Exercise 33. How to find the position of missing values in numpy array?\n",
    "res = np.argwhere(np.isnan(arr))\n",
    "\n",
    "#Exercise 34. How to filter a numpy array based on two or more conditions? \n",
    "iris_data[(iris_data[:, 2] > 1.5) & (iris_data[:, 0] < 5.0)]\n",
    "\n",
    "#Exercise 35. How to drop rows that contain a missing value from a numpy array?\n",
    "#Exercise 36. How to find the correlation between two columns of a numpy array?\n",
    "#Exercise 43. How to get the second largest value of an array when grouped by another array?\n",
    "#Exercise 44. How to sort a 2D array by a column\n",
    "#Exercise 45. How to find the most frequent value in a numpy array?\n",
    "\n",
    "#print(np.bincount(x).argmax())\n",
    "\n",
    "#Exercise 46. How to find the position of the first occurrence of a value greater than a given value?\n",
    "#Exercise 47. How to replace all values greater than a given value to a given cutoff?\n",
    "#Exercise 48. How to get the positions of top n values from a numpy array?\n",
    "#Exercise 49. How to compute the row wise counts of all possible values in an array?\n",
    "#Exercise 50. How to convert an array of arrays into a flat 1d array?\n"
   ]
  },
  {
   "cell_type": "code",
   "execution_count": 13,
   "metadata": {},
   "outputs": [
    {
     "name": "stdout",
     "output_type": "stream",
     "text": [
      "[6, 7, 9, 8, 9, 7, 5]\n"
     ]
    }
   ],
   "source": [
    " "
   ]
  },
  {
   "cell_type": "markdown",
   "metadata": {},
   "source": [
    "## Array Manipulation"
   ]
  },
  {
   "cell_type": "code",
   "execution_count": 5,
   "metadata": {},
   "outputs": [
    {
     "data": {
      "text/plain": [
       "array([1, 2, 3, 3, 4, 5])"
      ]
     },
     "execution_count": 5,
     "metadata": {},
     "output_type": "execute_result"
    }
   ],
   "source": [
    "a=np.array([1,2,3])\n",
    "b=np.array([3,4,5])\n",
    "np.concatenate((a,b))"
   ]
  },
  {
   "cell_type": "code",
   "execution_count": 9,
   "metadata": {},
   "outputs": [
    {
     "data": {
      "text/plain": [
       "array([[1, 2, 3],\n",
       "       [3, 4, 5]])"
      ]
     },
     "execution_count": 9,
     "metadata": {},
     "output_type": "execute_result"
    }
   ],
   "source": [
    "np.vstack((a,b))"
   ]
  },
  {
   "cell_type": "code",
   "execution_count": 7,
   "metadata": {},
   "outputs": [
    {
     "data": {
      "text/plain": [
       "array([1, 2, 3, 3, 4, 5])"
      ]
     },
     "execution_count": 7,
     "metadata": {},
     "output_type": "execute_result"
    }
   ],
   "source": [
    "np.hstack((a,b))"
   ]
  },
  {
   "cell_type": "code",
   "execution_count": 8,
   "metadata": {},
   "outputs": [
    {
     "data": {
      "text/plain": [
       "array([[1, 3],\n",
       "       [2, 4],\n",
       "       [3, 5]])"
      ]
     },
     "execution_count": 8,
     "metadata": {},
     "output_type": "execute_result"
    }
   ],
   "source": [
    "np.column_stack((a,b))"
   ]
  },
  {
   "cell_type": "markdown",
   "metadata": {},
   "source": [
    "## Indexing and Slicing"
   ]
  },
  {
   "cell_type": "code",
   "execution_count": 11,
   "metadata": {},
   "outputs": [
    {
     "name": "stdout",
     "output_type": "stream",
     "text": [
      "[[1 1 1]\n",
      " [3 3 3]\n",
      " [4 4 4]]\n"
     ]
    }
   ],
   "source": [
    "a=np.array([[1,1,1],[3,3,3],[4,4,4]])\n",
    "print(a)"
   ]
  },
  {
   "cell_type": "code",
   "execution_count": 16,
   "metadata": {},
   "outputs": [
    {
     "name": "stdout",
     "output_type": "stream",
     "text": [
      "[1 1 1]\n",
      "[[1 1 1]\n",
      " [3 3 3]]\n",
      "[[3 3]\n",
      " [4 4]]\n"
     ]
    }
   ],
   "source": [
    "print(a[0])\n",
    "print(a[:2])\n",
    "#print(a[:1,1:])\n",
    "#print(a[:2,1:])\n",
    "print(a[1:,1:])\n"
   ]
  },
  {
   "cell_type": "markdown",
   "metadata": {},
   "source": [
    "# Scipy and its sub packages"
   ]
  },
  {
   "cell_type": "code",
   "execution_count": null,
   "metadata": {},
   "outputs": [],
   "source": [
    "## Scipy.cluster\n",
    "## scipy.stats\n",
    "## scipy.optimize\n",
    "## scipy.integrate\n",
    "## scipy.linalg\n",
    "## scipy.fftpack\n",
    "## scipy.signal\n"
   ]
  },
  {
   "cell_type": "markdown",
   "metadata": {},
   "source": [
    "# Pandas\n",
    "### 1D - Series\n",
    "### 2D - Dataframe\n",
    "### 3D - Panel Data"
   ]
  },
  {
   "cell_type": "code",
   "execution_count": 1,
   "metadata": {},
   "outputs": [],
   "source": [
    "import pandas as pd"
   ]
  },
  {
   "cell_type": "code",
   "execution_count": 6,
   "metadata": {},
   "outputs": [
    {
     "name": "stdout",
     "output_type": "stream",
     "text": [
      "0    1\n",
      "1    3\n",
      "2    c\n",
      "dtype: object\n"
     ]
    }
   ],
   "source": [
    "a=[1,3,'c']\n",
    "b=pd.Series(a)\n",
    "print(b)\n",
    "\n"
   ]
  },
  {
   "cell_type": "markdown",
   "metadata": {},
   "source": [
    "### DataFrames can be created from List ,Series, Dictionary, numpy array\n",
    "### In Pandas upper limit is included ,unlike python list and numpy arrays  "
   ]
  },
  {
   "cell_type": "markdown",
   "metadata": {},
   "source": [
    "### Series and Dataframe Excercise "
   ]
  },
  {
   "cell_type": "code",
   "execution_count": 23,
   "metadata": {},
   "outputs": [
    {
     "name": "stdout",
     "output_type": "stream",
     "text": [
      "0    A\n",
      "1    B\n",
      "2    C\n",
      "dtype: object\n",
      "first     1\n",
      "second    0\n",
      "third     0\n",
      "forth     0\n",
      "fifth     5\n",
      "dtype: int64\n"
     ]
    },
    {
     "data": {
      "text/plain": [
       "False"
      ]
     },
     "execution_count": 23,
     "metadata": {},
     "output_type": "execute_result"
    }
   ],
   "source": [
    "import pandas as pd\n",
    "#Create an empty pandas Series\n",
    "\n",
    "#Given the X python list convert it to an Y pandas Series\n",
    "X = ['A','B','C']\n",
    "Y= pd.Series(X)\n",
    "print(Y)\n",
    "\n",
    "#Given the X pandas Series, name it 'My letters'\n",
    "X = pd.Series(['A','B','C'])\n",
    "X.name = 'My letters'\n",
    "\n",
    "#Given the X pandas Series, show its values\n",
    "X = pd.Series(['A','B','C'])\n",
    "X.values\n",
    "\n",
    "#Assign index names to the given X pandas Series\n",
    "X.index=['first', 'second', 'third']\n",
    "\n",
    "#Given the X pandas Series, show its first element\n",
    "X.loc['first']\n",
    "\n",
    "#Given the X pandas Series, show all middle elements\n",
    "X[1:-1]\n",
    "\n",
    "#Given the X pandas Series, show the first and last elements\n",
    "X[[0,-1]]\n",
    "\n",
    "#Order (sort) the given pandas Series\n",
    "X = pd.Series([4,2,5,1,3],index=['forth','second','fifth','first','third'])\n",
    "X = X.sort_values()\n",
    "X\n",
    "\n",
    "#Given the X pandas Series, change all the middle elements to 0\n",
    "X[1:-1] = 0\n",
    "print(X)\n",
    "\n",
    "#Given the X pandas Series, make a mask showing negative elements\n",
    "X = pd.Series([-1,2,0,-4,5,6,0,0,-9,10])\n",
    "X[X<0]\n",
    "X = pd.Series([-1,2,0,-4,5,6,0,0,-9,10])\n",
    "\n",
    "mask = X <= 0\n",
    "X[mask]\n",
    "\n",
    "#Given the X pandas Series, return True if none of its elements is zero\n",
    "X.all()\n",
    "\n",
    "#df.drop(df.index[2:4], inplace=True)\n",
    "#df.drop([5,6], axis=0, inplace=True)\n",
    "#df = df.drop(columns=['gender'])"
   ]
  },
  {
   "cell_type": "code",
   "execution_count": 38,
   "metadata": {},
   "outputs": [
    {
     "data": {
      "text/html": [
       "<div>\n",
       "<style scoped>\n",
       "    .dataframe tbody tr th:only-of-type {\n",
       "        vertical-align: middle;\n",
       "    }\n",
       "\n",
       "    .dataframe tbody tr th {\n",
       "        vertical-align: top;\n",
       "    }\n",
       "\n",
       "    .dataframe thead th {\n",
       "        text-align: right;\n",
       "    }\n",
       "</style>\n",
       "<table border=\"1\" class=\"dataframe\">\n",
       "  <thead>\n",
       "    <tr style=\"text-align: right;\">\n",
       "      <th></th>\n",
       "      <th>Gender</th>\n",
       "      <th>Year</th>\n",
       "      <th>years_since</th>\n",
       "    </tr>\n",
       "    <tr>\n",
       "      <th>Name</th>\n",
       "      <th></th>\n",
       "      <th></th>\n",
       "      <th></th>\n",
       "    </tr>\n",
       "  </thead>\n",
       "  <tbody>\n",
       "    <tr>\n",
       "      <th>Wolverine</th>\n",
       "      <td>male</td>\n",
       "      <td>1974</td>\n",
       "      <td>50</td>\n",
       "    </tr>\n",
       "    <tr>\n",
       "      <th>Storm</th>\n",
       "      <td>female</td>\n",
       "      <td>1975</td>\n",
       "      <td>49</td>\n",
       "    </tr>\n",
       "  </tbody>\n",
       "</table>\n",
       "</div>"
      ],
      "text/plain": [
       "           Gender  Year  years_since\n",
       "Name                                \n",
       "Wolverine    male  1974           50\n",
       "Storm      female  1975           49"
      ]
     },
     "execution_count": 38,
     "metadata": {},
     "output_type": "execute_result"
    }
   ],
   "source": [
    "import numpy as np\n",
    "import pandas as pd \n",
    "\n",
    "#Empty Dataframe\n",
    "pd.DataFrame(data=[None],\n",
    "             index=[None],\n",
    "             columns=[None])\n",
    "\n",
    "#Create a marvel_df pandas DataFrame with the given marvel data\n",
    "marvel_data = [\n",
    "    ['Spider-Man', 'male', 1962],\n",
    "    ['Captain America', 'male', 1941],\n",
    "    ['Wolverine', 'male', 1974],\n",
    "    ['Iron Man', 'male', 1963],\n",
    "    ['Thor', 'male', 1963],\n",
    "    ['Thing', 'male', 1961],\n",
    "    ['Mister Fantastic', 'male', 1961],\n",
    "    ['Hulk', 'male', 1962],\n",
    "    ['Beast', 'male', 1963],\n",
    "    ['Invisible Woman', 'female', 1961],\n",
    "    ['Storm', 'female', 1975],\n",
    "    ['Namor', 'male', 1939],\n",
    "    ['Hawkeye', 'male', 1964],\n",
    "    ['Daredevil', 'male', 1964],\n",
    "    ['Doctor Strange', 'male', 1963],\n",
    "    ['Hank Pym', 'male', 1962],\n",
    "    ['Scarlet Witch', 'female', 1964],\n",
    "    ['Wasp', 'female', 1963],\n",
    "    ['Black Widow', 'female', 1964],\n",
    "    ['Vision', 'male', 1968]\n",
    "]\n",
    "marvel_df = pd.DataFrame(data=marvel_data)\n",
    "\n",
    "marvel_df.columns= ['Name', 'Gender' , 'Year']\n",
    "marvel_df.index=marvel_df['Name']\n",
    "marvel_df= marvel_df.drop(['Name'],axis = 1)\n",
    "marvel_df = marvel_df.drop(['Namor', 'Hank Pym'], axis=0)\n",
    "marvel_df.iloc[:5]\n",
    "\n",
    "marvel_df.iloc[-5:]\n",
    "\n",
    "marvel_df.iloc[:5]['Gender']\n",
    "marvel_df.iloc[1:-1]['Year'].to_frame()\n",
    "marvel_df.iloc[::len(marvel_df)-1]\n",
    "#OR\n",
    "marvel_df.iloc[[0, -1]]\n",
    "\n",
    "marvel_df.loc['Vision','Year'] = 1964 \n",
    "\n",
    "marvel_df['years_since']=2024 - marvel_df['Year']\n",
    "marvel_df\n",
    "\n",
    "marvel_df[marvel_df['Gender']=='female']\n",
    "\n",
    "marvel_df[marvel_df['Year']>1970]"
   ]
  },
  {
   "cell_type": "markdown",
   "metadata": {},
   "source": [
    "## Merge , Join and Concatenate DataFrames"
   ]
  },
  {
   "cell_type": "code",
   "execution_count": 11,
   "metadata": {},
   "outputs": [
    {
     "data": {
      "text/html": [
       "<div>\n",
       "<style scoped>\n",
       "    .dataframe tbody tr th:only-of-type {\n",
       "        vertical-align: middle;\n",
       "    }\n",
       "\n",
       "    .dataframe tbody tr th {\n",
       "        vertical-align: top;\n",
       "    }\n",
       "\n",
       "    .dataframe thead th {\n",
       "        text-align: right;\n",
       "    }\n",
       "</style>\n",
       "<table border=\"1\" class=\"dataframe\">\n",
       "  <thead>\n",
       "    <tr style=\"text-align: right;\">\n",
       "      <th></th>\n",
       "      <th>Player</th>\n",
       "      <th>Points</th>\n",
       "      <th>Title</th>\n",
       "    </tr>\n",
       "  </thead>\n",
       "  <tbody>\n",
       "    <tr>\n",
       "      <th>0</th>\n",
       "      <td>Player1</td>\n",
       "      <td>8</td>\n",
       "      <td>Game1</td>\n",
       "    </tr>\n",
       "    <tr>\n",
       "      <th>1</th>\n",
       "      <td>Player2</td>\n",
       "      <td>9</td>\n",
       "      <td>Game2</td>\n",
       "    </tr>\n",
       "    <tr>\n",
       "      <th>2</th>\n",
       "      <td>Player</td>\n",
       "      <td>6</td>\n",
       "      <td>Game3</td>\n",
       "    </tr>\n",
       "  </tbody>\n",
       "</table>\n",
       "</div>"
      ],
      "text/plain": [
       "    Player  Points  Title\n",
       "0  Player1       8  Game1\n",
       "1  Player2       9  Game2\n",
       "2   Player       6  Game3"
      ]
     },
     "execution_count": 11,
     "metadata": {},
     "output_type": "execute_result"
    }
   ],
   "source": [
    "import pandas as pd\n",
    "player = ['Player1' , 'Player2','Player']\n",
    "point = [8,9,6]\n",
    "title=['Game1','Game2','Game3']\n",
    "df1 = pd.DataFrame({\"Player\":player,\"Points\":point,\"Title\":title})\n",
    "df1\n"
   ]
  },
  {
   "cell_type": "code",
   "execution_count": 9,
   "metadata": {},
   "outputs": [
    {
     "data": {
      "text/html": [
       "<div>\n",
       "<style scoped>\n",
       "    .dataframe tbody tr th:only-of-type {\n",
       "        vertical-align: middle;\n",
       "    }\n",
       "\n",
       "    .dataframe tbody tr th {\n",
       "        vertical-align: top;\n",
       "    }\n",
       "\n",
       "    .dataframe thead th {\n",
       "        text-align: right;\n",
       "    }\n",
       "</style>\n",
       "<table border=\"1\" class=\"dataframe\">\n",
       "  <thead>\n",
       "    <tr style=\"text-align: right;\">\n",
       "      <th></th>\n",
       "      <th>Player</th>\n",
       "      <th>Power</th>\n",
       "      <th>Title</th>\n",
       "    </tr>\n",
       "  </thead>\n",
       "  <tbody>\n",
       "    <tr>\n",
       "      <th>0</th>\n",
       "      <td>Player1</td>\n",
       "      <td>Punch</td>\n",
       "      <td>Game1</td>\n",
       "    </tr>\n",
       "    <tr>\n",
       "      <th>1</th>\n",
       "      <td>Player5</td>\n",
       "      <td>Kick</td>\n",
       "      <td>Game5</td>\n",
       "    </tr>\n",
       "    <tr>\n",
       "      <th>2</th>\n",
       "      <td>Player6</td>\n",
       "      <td>Elbow</td>\n",
       "      <td>Game6</td>\n",
       "    </tr>\n",
       "  </tbody>\n",
       "</table>\n",
       "</div>"
      ],
      "text/plain": [
       "    Player  Power  Title\n",
       "0  Player1  Punch  Game1\n",
       "1  Player5   Kick  Game5\n",
       "2  Player6  Elbow  Game6"
      ]
     },
     "execution_count": 9,
     "metadata": {},
     "output_type": "execute_result"
    }
   ],
   "source": [
    "player= [\"Player1\",\"Player5\", \"Player6\"]\n",
    "power = ['Punch',\"Kick\",\"Elbow\"]\n",
    "title = ['Game1','Game5','Game6']\n",
    "df2 = pd.DataFrame({'Player':player,\"Power\":power,\"Title\":title})\n",
    "df2"
   ]
  },
  {
   "cell_type": "code",
   "execution_count": 12,
   "metadata": {},
   "outputs": [
    {
     "data": {
      "text/html": [
       "<div>\n",
       "<style scoped>\n",
       "    .dataframe tbody tr th:only-of-type {\n",
       "        vertical-align: middle;\n",
       "    }\n",
       "\n",
       "    .dataframe tbody tr th {\n",
       "        vertical-align: top;\n",
       "    }\n",
       "\n",
       "    .dataframe thead th {\n",
       "        text-align: right;\n",
       "    }\n",
       "</style>\n",
       "<table border=\"1\" class=\"dataframe\">\n",
       "  <thead>\n",
       "    <tr style=\"text-align: right;\">\n",
       "      <th></th>\n",
       "      <th>Player</th>\n",
       "      <th>Points</th>\n",
       "      <th>Title_x</th>\n",
       "      <th>Power</th>\n",
       "      <th>Title_y</th>\n",
       "    </tr>\n",
       "  </thead>\n",
       "  <tbody>\n",
       "    <tr>\n",
       "      <th>0</th>\n",
       "      <td>Player1</td>\n",
       "      <td>8</td>\n",
       "      <td>Game1</td>\n",
       "      <td>Punch</td>\n",
       "      <td>Game1</td>\n",
       "    </tr>\n",
       "  </tbody>\n",
       "</table>\n",
       "</div>"
      ],
      "text/plain": [
       "    Player  Points Title_x  Power Title_y\n",
       "0  Player1       8   Game1  Punch   Game1"
      ]
     },
     "execution_count": 12,
     "metadata": {},
     "output_type": "execute_result"
    }
   ],
   "source": [
    "# Inner Merge\n",
    "df1.merge(df2,on=\"Player\",how=\"inner\")"
   ]
  },
  {
   "cell_type": "code",
   "execution_count": 13,
   "metadata": {},
   "outputs": [
    {
     "data": {
      "text/html": [
       "<div>\n",
       "<style scoped>\n",
       "    .dataframe tbody tr th:only-of-type {\n",
       "        vertical-align: middle;\n",
       "    }\n",
       "\n",
       "    .dataframe tbody tr th {\n",
       "        vertical-align: top;\n",
       "    }\n",
       "\n",
       "    .dataframe thead th {\n",
       "        text-align: right;\n",
       "    }\n",
       "</style>\n",
       "<table border=\"1\" class=\"dataframe\">\n",
       "  <thead>\n",
       "    <tr style=\"text-align: right;\">\n",
       "      <th></th>\n",
       "      <th>Player</th>\n",
       "      <th>Points</th>\n",
       "      <th>Title_x</th>\n",
       "      <th>Power</th>\n",
       "      <th>Title_y</th>\n",
       "    </tr>\n",
       "  </thead>\n",
       "  <tbody>\n",
       "    <tr>\n",
       "      <th>0</th>\n",
       "      <td>Player1</td>\n",
       "      <td>8</td>\n",
       "      <td>Game1</td>\n",
       "      <td>Punch</td>\n",
       "      <td>Game1</td>\n",
       "    </tr>\n",
       "    <tr>\n",
       "      <th>1</th>\n",
       "      <td>Player2</td>\n",
       "      <td>9</td>\n",
       "      <td>Game2</td>\n",
       "      <td>NaN</td>\n",
       "      <td>NaN</td>\n",
       "    </tr>\n",
       "    <tr>\n",
       "      <th>2</th>\n",
       "      <td>Player</td>\n",
       "      <td>6</td>\n",
       "      <td>Game3</td>\n",
       "      <td>NaN</td>\n",
       "      <td>NaN</td>\n",
       "    </tr>\n",
       "  </tbody>\n",
       "</table>\n",
       "</div>"
      ],
      "text/plain": [
       "    Player  Points Title_x  Power Title_y\n",
       "0  Player1       8   Game1  Punch   Game1\n",
       "1  Player2       9   Game2    NaN     NaN\n",
       "2   Player       6   Game3    NaN     NaN"
      ]
     },
     "execution_count": 13,
     "metadata": {},
     "output_type": "execute_result"
    }
   ],
   "source": [
    "# Left/Right/Outer Merge\n",
    "df1.merge(df2,on=\"Player\", how='left')"
   ]
  },
  {
   "cell_type": "markdown",
   "metadata": {},
   "source": [
    "### How to perform Join Opertion in Pandas\n",
    "### It is must to havecommon index "
   ]
  },
  {
   "cell_type": "code",
   "execution_count": 38,
   "metadata": {},
   "outputs": [
    {
     "data": {
      "text/html": [
       "<div>\n",
       "<style scoped>\n",
       "    .dataframe tbody tr th:only-of-type {\n",
       "        vertical-align: middle;\n",
       "    }\n",
       "\n",
       "    .dataframe tbody tr th {\n",
       "        vertical-align: top;\n",
       "    }\n",
       "\n",
       "    .dataframe thead th {\n",
       "        text-align: right;\n",
       "    }\n",
       "</style>\n",
       "<table border=\"1\" class=\"dataframe\">\n",
       "  <thead>\n",
       "    <tr style=\"text-align: right;\">\n",
       "      <th></th>\n",
       "      <th>Players</th>\n",
       "      <th>Points</th>\n",
       "      <th>Title</th>\n",
       "    </tr>\n",
       "  </thead>\n",
       "  <tbody>\n",
       "    <tr>\n",
       "      <th>L1</th>\n",
       "      <td>Player1</td>\n",
       "      <td>8</td>\n",
       "      <td>Game1</td>\n",
       "    </tr>\n",
       "    <tr>\n",
       "      <th>L2</th>\n",
       "      <td>Player2</td>\n",
       "      <td>9</td>\n",
       "      <td>Game2</td>\n",
       "    </tr>\n",
       "    <tr>\n",
       "      <th>L3</th>\n",
       "      <td>Player</td>\n",
       "      <td>6</td>\n",
       "      <td>Game3</td>\n",
       "    </tr>\n",
       "  </tbody>\n",
       "</table>\n",
       "</div>"
      ],
      "text/plain": [
       "    Players  Points  Title\n",
       "L1  Player1       8  Game1\n",
       "L2  Player2       9  Game2\n",
       "L3   Player       6  Game3"
      ]
     },
     "execution_count": 38,
     "metadata": {},
     "output_type": "execute_result"
    }
   ],
   "source": [
    "player = ['Player1' , 'Player2','Player']\n",
    "point = [8,9,6]\n",
    "title=['Game1','Game2','Game3']\n",
    "df3 = pd.DataFrame({\"Players\":player,\"Points\":point,\"Title\":title},index = ['L1' , 'L2' , 'L3'])\n",
    "df3"
   ]
  },
  {
   "cell_type": "code",
   "execution_count": 34,
   "metadata": {},
   "outputs": [
    {
     "data": {
      "text/html": [
       "<div>\n",
       "<style scoped>\n",
       "    .dataframe tbody tr th:only-of-type {\n",
       "        vertical-align: middle;\n",
       "    }\n",
       "\n",
       "    .dataframe tbody tr th {\n",
       "        vertical-align: top;\n",
       "    }\n",
       "\n",
       "    .dataframe thead th {\n",
       "        text-align: right;\n",
       "    }\n",
       "</style>\n",
       "<table border=\"1\" class=\"dataframe\">\n",
       "  <thead>\n",
       "    <tr style=\"text-align: right;\">\n",
       "      <th></th>\n",
       "      <th>Player</th>\n",
       "      <th>Power</th>\n",
       "      <th>Titles</th>\n",
       "    </tr>\n",
       "  </thead>\n",
       "  <tbody>\n",
       "    <tr>\n",
       "      <th>L2</th>\n",
       "      <td>Player1</td>\n",
       "      <td>Punch</td>\n",
       "      <td>Game2</td>\n",
       "    </tr>\n",
       "    <tr>\n",
       "      <th>L3</th>\n",
       "      <td>Player5</td>\n",
       "      <td>Kick</td>\n",
       "      <td>Game5</td>\n",
       "    </tr>\n",
       "    <tr>\n",
       "      <th>L4</th>\n",
       "      <td>Player6</td>\n",
       "      <td>Elbow</td>\n",
       "      <td>Game6</td>\n",
       "    </tr>\n",
       "  </tbody>\n",
       "</table>\n",
       "</div>"
      ],
      "text/plain": [
       "     Player  Power Titles\n",
       "L2  Player1  Punch  Game2\n",
       "L3  Player5   Kick  Game5\n",
       "L4  Player6  Elbow  Game6"
      ]
     },
     "execution_count": 34,
     "metadata": {},
     "output_type": "execute_result"
    }
   ],
   "source": [
    "player= [\"Player1\",\"Player5\", \"Player6\"]\n",
    "power = ['Punch',\"Kick\",\"Elbow\"]\n",
    "title = ['Game2','Game5','Game6']\n",
    "df4 = pd.DataFrame({'Player':player,\"Power\":power,\"Titles\":title} , index= ['L2','L3', 'L4'])\n",
    "df4"
   ]
  },
  {
   "cell_type": "code",
   "execution_count": 39,
   "metadata": {},
   "outputs": [
    {
     "data": {
      "text/html": [
       "<div>\n",
       "<style scoped>\n",
       "    .dataframe tbody tr th:only-of-type {\n",
       "        vertical-align: middle;\n",
       "    }\n",
       "\n",
       "    .dataframe tbody tr th {\n",
       "        vertical-align: top;\n",
       "    }\n",
       "\n",
       "    .dataframe thead th {\n",
       "        text-align: right;\n",
       "    }\n",
       "</style>\n",
       "<table border=\"1\" class=\"dataframe\">\n",
       "  <thead>\n",
       "    <tr style=\"text-align: right;\">\n",
       "      <th></th>\n",
       "      <th>Players</th>\n",
       "      <th>Points</th>\n",
       "      <th>Title</th>\n",
       "      <th>Player</th>\n",
       "      <th>Power</th>\n",
       "      <th>Titles</th>\n",
       "    </tr>\n",
       "  </thead>\n",
       "  <tbody>\n",
       "    <tr>\n",
       "      <th>L2</th>\n",
       "      <td>Player2</td>\n",
       "      <td>9</td>\n",
       "      <td>Game2</td>\n",
       "      <td>Player1</td>\n",
       "      <td>Punch</td>\n",
       "      <td>Game2</td>\n",
       "    </tr>\n",
       "    <tr>\n",
       "      <th>L3</th>\n",
       "      <td>Player</td>\n",
       "      <td>6</td>\n",
       "      <td>Game3</td>\n",
       "      <td>Player5</td>\n",
       "      <td>Kick</td>\n",
       "      <td>Game5</td>\n",
       "    </tr>\n",
       "  </tbody>\n",
       "</table>\n",
       "</div>"
      ],
      "text/plain": [
       "    Players  Points  Title   Player  Power Titles\n",
       "L2  Player2       9  Game2  Player1  Punch  Game2\n",
       "L3   Player       6  Game3  Player5   Kick  Game5"
      ]
     },
     "execution_count": 39,
     "metadata": {},
     "output_type": "execute_result"
    }
   ],
   "source": [
    "# inner join\n",
    "df3.join(df4,how='inner')"
   ]
  },
  {
   "cell_type": "code",
   "execution_count": null,
   "metadata": {},
   "outputs": [],
   "source": [
    "# left/inner/outer join\n"
   ]
  },
  {
   "cell_type": "markdown",
   "metadata": {},
   "source": [
    "### How to concatenate 2 dataframe in pandas "
   ]
  },
  {
   "cell_type": "code",
   "execution_count": 25,
   "metadata": {},
   "outputs": [
    {
     "data": {
      "text/html": [
       "<div>\n",
       "<style scoped>\n",
       "    .dataframe tbody tr th:only-of-type {\n",
       "        vertical-align: middle;\n",
       "    }\n",
       "\n",
       "    .dataframe tbody tr th {\n",
       "        vertical-align: top;\n",
       "    }\n",
       "\n",
       "    .dataframe thead th {\n",
       "        text-align: right;\n",
       "    }\n",
       "</style>\n",
       "<table border=\"1\" class=\"dataframe\">\n",
       "  <thead>\n",
       "    <tr style=\"text-align: right;\">\n",
       "      <th></th>\n",
       "      <th>Player</th>\n",
       "      <th>Points</th>\n",
       "      <th>Title</th>\n",
       "      <th>Power</th>\n",
       "    </tr>\n",
       "  </thead>\n",
       "  <tbody>\n",
       "    <tr>\n",
       "      <th>L1</th>\n",
       "      <td>Player1</td>\n",
       "      <td>8.0</td>\n",
       "      <td>Game1</td>\n",
       "      <td>NaN</td>\n",
       "    </tr>\n",
       "    <tr>\n",
       "      <th>L2</th>\n",
       "      <td>Player2</td>\n",
       "      <td>9.0</td>\n",
       "      <td>Game2</td>\n",
       "      <td>NaN</td>\n",
       "    </tr>\n",
       "    <tr>\n",
       "      <th>L3</th>\n",
       "      <td>Player</td>\n",
       "      <td>6.0</td>\n",
       "      <td>Game3</td>\n",
       "      <td>NaN</td>\n",
       "    </tr>\n",
       "    <tr>\n",
       "      <th>L2</th>\n",
       "      <td>Player1</td>\n",
       "      <td>NaN</td>\n",
       "      <td>Game2</td>\n",
       "      <td>Punch</td>\n",
       "    </tr>\n",
       "    <tr>\n",
       "      <th>L3</th>\n",
       "      <td>Player5</td>\n",
       "      <td>NaN</td>\n",
       "      <td>Game5</td>\n",
       "      <td>Kick</td>\n",
       "    </tr>\n",
       "    <tr>\n",
       "      <th>L4</th>\n",
       "      <td>Player6</td>\n",
       "      <td>NaN</td>\n",
       "      <td>Game6</td>\n",
       "      <td>Elbow</td>\n",
       "    </tr>\n",
       "  </tbody>\n",
       "</table>\n",
       "</div>"
      ],
      "text/plain": [
       "     Player  Points  Title  Power\n",
       "L1  Player1     8.0  Game1    NaN\n",
       "L2  Player2     9.0  Game2    NaN\n",
       "L3   Player     6.0  Game3    NaN\n",
       "L2  Player1     NaN  Game2  Punch\n",
       "L3  Player5     NaN  Game5   Kick\n",
       "L4  Player6     NaN  Game6  Elbow"
      ]
     },
     "execution_count": 25,
     "metadata": {},
     "output_type": "execute_result"
    }
   ],
   "source": [
    "pd.concat([df3,df4])"
   ]
  },
  {
   "cell_type": "markdown",
   "metadata": {},
   "source": [
    "## Importing and Analysing the Dataset \n",
    "## Cleaning the Dataset"
   ]
  },
  {
   "cell_type": "markdown",
   "metadata": {},
   "source": [
    "# Visualization"
   ]
  },
  {
   "cell_type": "code",
   "execution_count": 25,
   "metadata": {},
   "outputs": [
    {
     "data": {
      "text/html": [
       "<div>\n",
       "<style scoped>\n",
       "    .dataframe tbody tr th:only-of-type {\n",
       "        vertical-align: middle;\n",
       "    }\n",
       "\n",
       "    .dataframe tbody tr th {\n",
       "        vertical-align: top;\n",
       "    }\n",
       "\n",
       "    .dataframe thead th {\n",
       "        text-align: right;\n",
       "    }\n",
       "</style>\n",
       "<table border=\"1\" class=\"dataframe\">\n",
       "  <thead>\n",
       "    <tr style=\"text-align: right;\">\n",
       "      <th></th>\n",
       "      <th>id</th>\n",
       "      <th>date</th>\n",
       "      <th>price</th>\n",
       "      <th>bedrooms</th>\n",
       "      <th>bathrooms</th>\n",
       "      <th>sqft_living</th>\n",
       "      <th>sqft_lot</th>\n",
       "      <th>floors</th>\n",
       "      <th>waterfront</th>\n",
       "      <th>view</th>\n",
       "      <th>...</th>\n",
       "      <th>grade</th>\n",
       "      <th>sqft_above</th>\n",
       "      <th>sqft_basement</th>\n",
       "      <th>yr_built</th>\n",
       "      <th>yr_renovated</th>\n",
       "      <th>zipcode</th>\n",
       "      <th>lat</th>\n",
       "      <th>long</th>\n",
       "      <th>sqft_living15</th>\n",
       "      <th>sqft_lot15</th>\n",
       "    </tr>\n",
       "  </thead>\n",
       "  <tbody>\n",
       "    <tr>\n",
       "      <th>0</th>\n",
       "      <td>7129300520</td>\n",
       "      <td>20141013T000000</td>\n",
       "      <td>221900</td>\n",
       "      <td>3</td>\n",
       "      <td>1.00</td>\n",
       "      <td>1180</td>\n",
       "      <td>5650</td>\n",
       "      <td>1.0</td>\n",
       "      <td>0</td>\n",
       "      <td>0</td>\n",
       "      <td>...</td>\n",
       "      <td>7</td>\n",
       "      <td>1180</td>\n",
       "      <td>0</td>\n",
       "      <td>1955</td>\n",
       "      <td>0</td>\n",
       "      <td>98178</td>\n",
       "      <td>47.5112</td>\n",
       "      <td>-122.257</td>\n",
       "      <td>1340</td>\n",
       "      <td>5650</td>\n",
       "    </tr>\n",
       "    <tr>\n",
       "      <th>1</th>\n",
       "      <td>6414100192</td>\n",
       "      <td>20141209T000000</td>\n",
       "      <td>538000</td>\n",
       "      <td>3</td>\n",
       "      <td>2.25</td>\n",
       "      <td>2570</td>\n",
       "      <td>7242</td>\n",
       "      <td>2.0</td>\n",
       "      <td>0</td>\n",
       "      <td>0</td>\n",
       "      <td>...</td>\n",
       "      <td>7</td>\n",
       "      <td>2170</td>\n",
       "      <td>400</td>\n",
       "      <td>1951</td>\n",
       "      <td>1991</td>\n",
       "      <td>98125</td>\n",
       "      <td>47.7210</td>\n",
       "      <td>-122.319</td>\n",
       "      <td>1690</td>\n",
       "      <td>7639</td>\n",
       "    </tr>\n",
       "    <tr>\n",
       "      <th>2</th>\n",
       "      <td>5631500400</td>\n",
       "      <td>20150225T000000</td>\n",
       "      <td>180000</td>\n",
       "      <td>2</td>\n",
       "      <td>1.00</td>\n",
       "      <td>770</td>\n",
       "      <td>10000</td>\n",
       "      <td>1.0</td>\n",
       "      <td>0</td>\n",
       "      <td>0</td>\n",
       "      <td>...</td>\n",
       "      <td>6</td>\n",
       "      <td>770</td>\n",
       "      <td>0</td>\n",
       "      <td>1933</td>\n",
       "      <td>0</td>\n",
       "      <td>98028</td>\n",
       "      <td>47.7379</td>\n",
       "      <td>-122.233</td>\n",
       "      <td>2720</td>\n",
       "      <td>8062</td>\n",
       "    </tr>\n",
       "    <tr>\n",
       "      <th>3</th>\n",
       "      <td>2487200875</td>\n",
       "      <td>20141209T000000</td>\n",
       "      <td>604000</td>\n",
       "      <td>4</td>\n",
       "      <td>3.00</td>\n",
       "      <td>1960</td>\n",
       "      <td>5000</td>\n",
       "      <td>1.0</td>\n",
       "      <td>0</td>\n",
       "      <td>0</td>\n",
       "      <td>...</td>\n",
       "      <td>7</td>\n",
       "      <td>1050</td>\n",
       "      <td>910</td>\n",
       "      <td>1965</td>\n",
       "      <td>0</td>\n",
       "      <td>98136</td>\n",
       "      <td>47.5208</td>\n",
       "      <td>-122.393</td>\n",
       "      <td>1360</td>\n",
       "      <td>5000</td>\n",
       "    </tr>\n",
       "    <tr>\n",
       "      <th>4</th>\n",
       "      <td>1954400510</td>\n",
       "      <td>20150218T000000</td>\n",
       "      <td>510000</td>\n",
       "      <td>3</td>\n",
       "      <td>2.00</td>\n",
       "      <td>1680</td>\n",
       "      <td>8080</td>\n",
       "      <td>1.0</td>\n",
       "      <td>0</td>\n",
       "      <td>0</td>\n",
       "      <td>...</td>\n",
       "      <td>8</td>\n",
       "      <td>1680</td>\n",
       "      <td>0</td>\n",
       "      <td>1987</td>\n",
       "      <td>0</td>\n",
       "      <td>98074</td>\n",
       "      <td>47.6168</td>\n",
       "      <td>-122.045</td>\n",
       "      <td>1800</td>\n",
       "      <td>7503</td>\n",
       "    </tr>\n",
       "  </tbody>\n",
       "</table>\n",
       "<p>5 rows × 21 columns</p>\n",
       "</div>"
      ],
      "text/plain": [
       "           id             date   price  bedrooms  bathrooms  sqft_living  \\\n",
       "0  7129300520  20141013T000000  221900         3       1.00         1180   \n",
       "1  6414100192  20141209T000000  538000         3       2.25         2570   \n",
       "2  5631500400  20150225T000000  180000         2       1.00          770   \n",
       "3  2487200875  20141209T000000  604000         4       3.00         1960   \n",
       "4  1954400510  20150218T000000  510000         3       2.00         1680   \n",
       "\n",
       "   sqft_lot  floors  waterfront  view  ...  grade  sqft_above  sqft_basement  \\\n",
       "0      5650     1.0           0     0  ...      7        1180              0   \n",
       "1      7242     2.0           0     0  ...      7        2170            400   \n",
       "2     10000     1.0           0     0  ...      6         770              0   \n",
       "3      5000     1.0           0     0  ...      7        1050            910   \n",
       "4      8080     1.0           0     0  ...      8        1680              0   \n",
       "\n",
       "   yr_built  yr_renovated  zipcode      lat     long  sqft_living15  \\\n",
       "0      1955             0    98178  47.5112 -122.257           1340   \n",
       "1      1951          1991    98125  47.7210 -122.319           1690   \n",
       "2      1933             0    98028  47.7379 -122.233           2720   \n",
       "3      1965             0    98136  47.5208 -122.393           1360   \n",
       "4      1987             0    98074  47.6168 -122.045           1800   \n",
       "\n",
       "   sqft_lot15  \n",
       "0        5650  \n",
       "1        7639  \n",
       "2        8062  \n",
       "3        5000  \n",
       "4        7503  \n",
       "\n",
       "[5 rows x 21 columns]"
      ]
     },
     "execution_count": 25,
     "metadata": {},
     "output_type": "execute_result"
    }
   ],
   "source": [
    "import pandas as pd\n",
    "\n",
    "df = pd.read_csv(r'C:\\Users\\MANSI\\Desktop\\mydata.csv')\n",
    "df.head()"
   ]
  },
  {
   "cell_type": "code",
   "execution_count": 26,
   "metadata": {},
   "outputs": [
    {
     "data": {
      "text/plain": [
       "Index(['id', 'date', 'price', 'bedrooms', 'bathrooms', 'sqft_living',\n",
       "       'sqft_lot', 'floors', 'waterfront', 'view', 'condition', 'grade',\n",
       "       'sqft_above', 'sqft_basement', 'yr_built', 'yr_renovated', 'zipcode',\n",
       "       'lat', 'long', 'sqft_living15', 'sqft_lot15'],\n",
       "      dtype='object')"
      ]
     },
     "execution_count": 26,
     "metadata": {},
     "output_type": "execute_result"
    }
   ],
   "source": [
    "# Handling Columns\n",
    "df.columns"
   ]
  },
  {
   "cell_type": "code",
   "execution_count": null,
   "metadata": {},
   "outputs": [],
   "source": [
    "df.rename(columns = {})"
   ]
  },
  {
   "cell_type": "code",
   "execution_count": null,
   "metadata": {},
   "outputs": [],
   "source": []
  },
  {
   "cell_type": "code",
   "execution_count": null,
   "metadata": {},
   "outputs": [],
   "source": []
  },
  {
   "cell_type": "markdown",
   "metadata": {},
   "source": [
    "# Covariance \n",
    "## Its helps us quantify the the relationship between features\n",
    "## When X is increasing and Y is also increasing -> COV is +ve\n",
    "## When X is increasing and Y is decreasing -> COV is -ve\n",
    "## If COV is ~0  it means no relation b/w X and Y\n",
    "\n",
    "## Pearson's Covariance Co-efficicent\n",
    "\n",
    "\n",
    "# Corelation\n",
    "## Pearson Correlation\n",
    "\n",
    "# Curse of Dimentionality  \n",
    "\n",
    "## Why Dimensionlity Reduction\n",
    "### -->Prevent the curse of Dimentionlity\n",
    "### -->Improve the performance of the model\n",
    "### --> Visualize the data , ie understand the data \n",
    "\n",
    "## Two Ways to remove it \n",
    "\n",
    "### 1. Feature Selection  \n",
    "#### -> Take important features \n",
    "\n",
    "### 2. Dimentionality Reduction  \n",
    "#### -> Feature Extraction - Taeke essence from orginal \n",
    "#### -> PCA (Principal Component Analysis)\n",
    "####    Projection\n",
    "####    Cost Function (i.e.Variance)"
   ]
  },
  {
   "cell_type": "code",
   "execution_count": 11,
   "metadata": {},
   "outputs": [],
   "source": [
    "import matplotlib.pyplot as plt\n",
    "import seaborn as sns\n",
    "import numpy as np\n",
    "import pandas as pd\n",
    "\n"
   ]
  },
  {
   "cell_type": "code",
   "execution_count": 12,
   "metadata": {},
   "outputs": [],
   "source": [
    "## load the dataset\n",
    "from sklearn.datasets import load_breast_cancer"
   ]
  },
  {
   "cell_type": "code",
   "execution_count": 18,
   "metadata": {},
   "outputs": [],
   "source": [
    "cancer_dataset=load_breast_cancer()"
   ]
  },
  {
   "cell_type": "code",
   "execution_count": 19,
   "metadata": {},
   "outputs": [
    {
     "data": {
      "text/plain": [
       "dict_keys(['data', 'target', 'frame', 'target_names', 'DESCR', 'feature_names', 'filename', 'data_module'])"
      ]
     },
     "execution_count": 19,
     "metadata": {},
     "output_type": "execute_result"
    }
   ],
   "source": [
    "cancer_dataset.keys()"
   ]
  },
  {
   "cell_type": "code",
   "execution_count": null,
   "metadata": {},
   "outputs": [],
   "source": []
  },
  {
   "cell_type": "code",
   "execution_count": null,
   "metadata": {},
   "outputs": [],
   "source": []
  }
 ],
 "metadata": {
  "kernelspec": {
   "display_name": "Python 3 (ipykernel)",
   "language": "python",
   "name": "python3"
  },
  "language_info": {
   "codemirror_mode": {
    "name": "ipython",
    "version": 3
   },
   "file_extension": ".py",
   "mimetype": "text/x-python",
   "name": "python",
   "nbconvert_exporter": "python",
   "pygments_lexer": "ipython3",
   "version": "3.9.13"
  }
 },
 "nbformat": 4,
 "nbformat_minor": 4
}
